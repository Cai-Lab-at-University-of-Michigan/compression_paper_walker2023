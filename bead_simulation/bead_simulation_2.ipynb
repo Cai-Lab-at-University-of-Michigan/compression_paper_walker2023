{
 "cells": [
  {
   "cell_type": "code",
   "execution_count": 1,
   "id": "19f29509-1a91-422f-9d9a-128562c6a1cf",
   "metadata": {},
   "outputs": [],
   "source": [
    "import numpy as np\n",
    "import sdt.sim\n",
    "from matplotlib import pyplot\n",
    "import tifffile\n",
    "import io\n",
    "import hdf5plugin\n",
    "import time"
   ]
  },
  {
   "cell_type": "code",
   "execution_count": 2,
   "id": "abbb93bb-2d3d-4167-a959-04242e14b4bf",
   "metadata": {},
   "outputs": [],
   "source": [
    "def simulate_image(image_size=256, beads=200, sigma=2, amp=500, zrange=12, offset=100, poisson=True):\n",
    "    coords = np.random.randint(0,image_size, size=(3,beads)).T # z x y\n",
    "    \n",
    "    out = np.zeros(\n",
    "        shape=(image_size,image_size,image_size),\n",
    "        #dtype=np.uint16\n",
    "    )\n",
    "    \n",
    "    for i in range(image_size):\n",
    "        filtered_coords = []\n",
    "        for x in coords:\n",
    "            if i-(zrange) < x[0] < i+(zrange):\n",
    "                filtered_coords.append(x)\n",
    "        \n",
    "        to_plot = []\n",
    "        for coord in filtered_coords:\n",
    "            dz = abs(coord[0] - i)\n",
    "            #The below ratio is G(x) / G(0) (normalize)\n",
    "            ratio = np.exp(-1 * (dz**2) / (2 * (sigma**2)))\n",
    "            to_plot.append( ((coord[1], coord[2]), amp * ratio) )\n",
    "        \n",
    "        if len(to_plot) > 0:\n",
    "            new_coords = np.array( [ [x,y] for ((x,y),_) in to_plot ] )\n",
    "            new_amplitudes = np.array( [amp for _,amp in to_plot] )\n",
    "\n",
    "            out[i,...] = sdt.sim.simulate_gauss(\n",
    "                (image_size,image_size),\n",
    "                new_coords,\n",
    "                new_amplitudes,\n",
    "                np.zeros_like(new_amplitudes)+sigma\n",
    "            )[...]\n",
    "    \n",
    "    out += offset\n",
    "    \n",
    "    if poisson:\n",
    "        return np.random.poisson(lam=out).astype(np.uint16)\n",
    "    \n",
    "    return out.astype(np.uint16)"
   ]
  },
  {
   "cell_type": "code",
   "execution_count": 3,
   "id": "b08251cf-2534-4df9-bc3b-5093e1b6dee2",
   "metadata": {},
   "outputs": [
    {
     "name": "stdout",
     "output_type": "stream",
     "text": [
      "864 ms ± 27 ms per loop (mean ± std. dev. of 7 runs, 1 loop each)\n"
     ]
    }
   ],
   "source": [
    "%%timeit\n",
    "img = simulate_image()"
   ]
  },
  {
   "cell_type": "code",
   "execution_count": 4,
   "id": "fb872233-a8dd-46c7-b121-94300b0b4bfa",
   "metadata": {},
   "outputs": [],
   "source": [
    "tifffile.imwrite('stack.tif', simulate_image(beads=10000))"
   ]
  },
  {
   "cell_type": "code",
   "execution_count": 5,
   "id": "8d297480-1aa1-4aad-a0c9-1bf71a768565",
   "metadata": {},
   "outputs": [],
   "source": [
    "import h5py"
   ]
  },
  {
   "cell_type": "code",
   "execution_count": 6,
   "id": "1cf5cc46-0e03-4a9a-96fa-ca79dd95060d",
   "metadata": {},
   "outputs": [],
   "source": [
    "def test_compression(img, params={}, cs=(32,32,32)):\n",
    "    with io.BytesIO() as tmpfile:\n",
    "        with h5py.File(tmpfile, 'w') as h5file:\n",
    "            #img = simulate_image(beads=beads)\n",
    "            h5file.create_dataset(\"data\", data=img, **params, chunks=cs)\n",
    "            return tmpfile.getbuffer().nbytes"
   ]
  },
  {
   "cell_type": "code",
   "execution_count": 7,
   "id": "8e661ef8-58de-4ff8-8164-d440e7309a68",
   "metadata": {},
   "outputs": [],
   "source": [
    "def ratio(beads = 200, params={}, bg_sub=0):\n",
    "    img = simulate_image(beads=beads)\n",
    "    \n",
    "    # upsample, bg subtract, then downsample to prevent roundoff errors\n",
    "    if bg_sub > 0:\n",
    "        img = img.astype(np.int64)\n",
    "        img -= bg_sub\n",
    "        img[ img < 0 ] = 0\n",
    "        img = img.astype(np.uint16)\n",
    "        \n",
    "    start_time = time.time()\n",
    "    uncompressed = test_compression(img)\n",
    "    compressed = test_compression(img, params=params)\n",
    "    return 1.0 * uncompressed / compressed, time.time()-start_time"
   ]
  },
  {
   "cell_type": "code",
   "execution_count": 8,
   "id": "0767a4c8-ea9e-4cad-a775-8081a5ce1c66",
   "metadata": {},
   "outputs": [
    {
     "data": {
      "text/plain": [
       "(2.1365080039555737, 1.61580491065979)"
      ]
     },
     "execution_count": 8,
     "metadata": {},
     "output_type": "execute_result"
    }
   ],
   "source": [
    "ratio( params={'compression':'gzip', 'compression_opts':5} )"
   ]
  },
  {
   "cell_type": "code",
   "execution_count": 9,
   "id": "1013f713-ea3d-4fdd-9a2a-a2bc649388ed",
   "metadata": {},
   "outputs": [
    {
     "data": {
      "text/plain": [
       "(2.579842548086709, 2.0142409801483154)"
      ]
     },
     "execution_count": 9,
     "metadata": {},
     "output_type": "execute_result"
    }
   ],
   "source": [
    "ratio( params=hdf5plugin.Blosc(cname='zstd', clevel=9, shuffle=hdf5plugin.Blosc.BITSHUFFLE) )"
   ]
  },
  {
   "cell_type": "code",
   "execution_count": 21,
   "id": "5bf29da8-33f2-45df-8360-50a9f066bdf9",
   "metadata": {},
   "outputs": [
    {
     "name": "stdout",
     "output_type": "stream",
     "text": [
      "[1, 10, 100, 1000, 10000]\n"
     ]
    }
   ],
   "source": [
    "x_marks = [10**i for i in range(0,5)]\n",
    "print(x_marks)\n",
    "\n",
    "res = [\n",
    "    ratio( params=hdf5plugin.Blosc(cname='zstd', clevel=9, shuffle=hdf5plugin.Blosc.BITSHUFFLE), beads=b)[0]\n",
    "    for b in x_marks\n",
    "]\n",
    "\n",
    "res2 = [\n",
    "    ratio( params={'compression':'gzip', 'compression_opts':5}, beads=b)[0]\n",
    "    for b in x_marks\n",
    "]\n",
    "\n",
    "res3 = [\n",
    "    ratio( params={'compression':'gzip', 'compression_opts':5}, beads=b, bg_sub = 150)[0]\n",
    "    for b in x_marks\n",
    "]"
   ]
  },
  {
   "cell_type": "code",
   "execution_count": 22,
   "id": "603ad626-3604-47fe-8065-3c64f2d79ea9",
   "metadata": {},
   "outputs": [
    {
     "data": {
      "image/png": "[encoded data removed]",
      "text/plain": [
       "<Figure size 640x480 with 1 Axes>"
      ]
     },
     "metadata": {},
     "output_type": "display_data"
    }
   ],
   "source": [
    "fig = pyplot.figure()\n",
    "ax = fig.add_subplot(1, 1, 1)\n",
    "\n",
    "line, = ax.plot(x_marks, res, color='blue', lw=2)\n",
    "line, = ax.plot(x_marks, res2, color='red', lw=2)\n",
    "line, = ax.plot(x_marks, res3, color='green', lw=2)\n",
    "\n",
    "ax.set_xscale('log')"
   ]
  },
  {
   "cell_type": "code",
   "execution_count": 23,
   "id": "105ab549-5c0f-430d-9553-089628a9b5e3",
   "metadata": {},
   "outputs": [],
   "source": [
    "import seaborn as sns"
   ]
  },
  {
   "cell_type": "code",
   "execution_count": 24,
   "id": "2babd2b1-c27a-4188-bd82-a30197ed96e0",
   "metadata": {},
   "outputs": [
    {
     "data": {
      "text/plain": [
       "(array([1.300000e+01, 1.070000e+02, 3.950000e+02, 2.747000e+03,\n",
       "        7.910000e+03, 3.683700e+04, 7.771500e+04, 2.555320e+05,\n",
       "        5.869440e+05, 7.756600e+05, 1.595851e+06, 1.614910e+06,\n",
       "        2.541599e+06, 2.002515e+06, 2.463452e+06, 1.955618e+06,\n",
       "        1.062195e+06, 9.211300e+05, 4.021400e+05, 2.850170e+05,\n",
       "        1.009200e+05, 5.924300e+04, 2.026600e+04, 5.327000e+03,\n",
       "        2.440000e+03, 4.980000e+02, 1.940000e+02, 3.500000e+01,\n",
       "        2.000000e+00, 4.000000e+00]),\n",
       " array([ 52.        ,  55.56666667,  59.13333333,  62.7       ,\n",
       "         66.26666667,  69.83333333,  73.4       ,  76.96666667,\n",
       "         80.53333333,  84.1       ,  87.66666667,  91.23333333,\n",
       "         94.8       ,  98.36666667, 101.93333333, 105.5       ,\n",
       "        109.06666667, 112.63333333, 116.2       , 119.76666667,\n",
       "        123.33333333, 126.9       , 130.46666667, 134.03333333,\n",
       "        137.6       , 141.16666667, 144.73333333, 148.3       ,\n",
       "        151.86666667, 155.43333333, 159.        ]),\n",
       " <BarContainer object of 30 artists>)"
      ]
     },
     "execution_count": 24,
     "metadata": {},
     "output_type": "execute_result"
    },
    {
     "data": {
      "image/png": "[encoded data removed]",
      "text/plain": [
       "<Figure size 640x480 with 1 Axes>"
      ]
     },
     "metadata": {},
     "output_type": "display_data"
    }
   ],
   "source": [
    "pyplot.hist( simulate_image(beads=0).ravel(), bins=30 )"
   ]
  },
  {
   "cell_type": "code",
   "execution_count": null,
   "id": "c2c81b14-adc5-4aed-94fc-8f0ba11a8eb2",
   "metadata": {},
   "outputs": [],
   "source": []
  }
 ],
 "metadata": {
  "kernelspec": {
   "display_name": "Python 3 (ipykernel)",
   "language": "python",
   "name": "python3"
  },
  "language_info": {
   "codemirror_mode": {
    "name": "ipython",
    "version": 3
   },
   "file_extension": ".py",
   "mimetype": "text/x-python",
   "name": "python",
   "nbconvert_exporter": "python",
   "pygments_lexer": "ipython3",
   "version": "3.10.6"
  }
 },
 "nbformat": 4,
 "nbformat_minor": 5
}
