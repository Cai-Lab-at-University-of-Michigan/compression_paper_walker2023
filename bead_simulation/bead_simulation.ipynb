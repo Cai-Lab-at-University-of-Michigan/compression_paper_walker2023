{
 "cells": [
  {
   "cell_type": "code",
   "execution_count": 234,
   "id": "19f29509-1a91-422f-9d9a-128562c6a1cf",
   "metadata": {},
   "outputs": [],
   "source": [
    "import numpy as np\n",
    "import sdt.sim\n",
    "from matplotlib import pyplot\n",
    "import tifffile\n",
    "import io\n",
    "import hdf5plugin"
   ]
  },
  {
   "cell_type": "code",
   "execution_count": 243,
   "id": "abbb93bb-2d3d-4167-a959-04242e14b4bf",
   "metadata": {},
   "outputs": [],
   "source": [
    "def simulate_image(image_size=256, beads=200, sigma=2, amp=500, zrange=12, offset=100, poisson=True):\n",
    "    coords = np.random.randint(0,image_size, size=(3,beads)).T # z x y\n",
    "    \n",
    "    out = np.zeros(\n",
    "        shape=(image_size,image_size,image_size),\n",
    "        #dtype=np.uint16\n",
    "    )\n",
    "    \n",
    "    for i in range(image_size):\n",
    "        filtered_coords = []\n",
    "        for x in coords:\n",
    "            if i-(zrange) < x[0] < i+(zrange):\n",
    "                filtered_coords.append(x)\n",
    "        \n",
    "        to_plot = []\n",
    "        for coord in filtered_coords:\n",
    "            dz = abs(coord[0] - i)\n",
    "            #The below ratio is G(x) / G(0) (normalize)\n",
    "            ratio = np.exp(-1 * (dz**2) / (2 * (sigma**2)))\n",
    "            to_plot.append( ((coord[1], coord[2]), amp * ratio) )\n",
    "        \n",
    "        if len(to_plot) > 0:\n",
    "            new_coords = np.array( [ [x,y] for ((x,y),_) in to_plot ] )\n",
    "            new_amplitudes = np.array( [amp for _,amp in to_plot] )\n",
    "\n",
    "            out[i,...] = sdt.sim.simulate_gauss(\n",
    "                (image_size,image_size),\n",
    "                new_coords,\n",
    "                new_amplitudes,\n",
    "                np.zeros_like(new_amplitudes)+sigma\n",
    "            )[...]\n",
    "    \n",
    "    out += offset\n",
    "    \n",
    "    if poisson:\n",
    "        return np.random.poisson(lam=out).astype(np.uint16)\n",
    "    \n",
    "    return out.astype(np.uint16)"
   ]
  },
  {
   "cell_type": "code",
   "execution_count": 244,
   "id": "b08251cf-2534-4df9-bc3b-5093e1b6dee2",
   "metadata": {},
   "outputs": [
    {
     "name": "stdout",
     "output_type": "stream",
     "text": [
      "817 ms ± 4.94 ms per loop (mean ± std. dev. of 7 runs, 1 loop each)\n"
     ]
    }
   ],
   "source": [
    "%%timeit\n",
    "img = simulate_image()"
   ]
  },
  {
   "cell_type": "code",
   "execution_count": 245,
   "id": "fb872233-a8dd-46c7-b121-94300b0b4bfa",
   "metadata": {},
   "outputs": [],
   "source": [
    "tifffile.imwrite('stack.tif', simulate_image(beads=10000))"
   ]
  },
  {
   "cell_type": "code",
   "execution_count": 246,
   "id": "8d297480-1aa1-4aad-a0c9-1bf71a768565",
   "metadata": {},
   "outputs": [],
   "source": [
    "import h5py"
   ]
  },
  {
   "cell_type": "code",
   "execution_count": 247,
   "id": "1cf5cc46-0e03-4a9a-96fa-ca79dd95060d",
   "metadata": {},
   "outputs": [],
   "source": [
    "def test_compression(params={}, beads=200):\n",
    "    with io.BytesIO() as tmpfile:\n",
    "        with h5py.File(tmpfile, 'w') as h5file:\n",
    "            img = simulate_image(beads=beads)\n",
    "            h5file.create_dataset(\"data\", data=img, **params, chunks=(32,32,32)) #compression=\"gzip\", compression_opts=9\n",
    "            return tmpfile.getbuffer().nbytes"
   ]
  },
  {
   "cell_type": "code",
   "execution_count": 248,
   "id": "8e661ef8-58de-4ff8-8164-d440e7309a68",
   "metadata": {},
   "outputs": [
    {
     "data": {
      "text/plain": [
       "2.205484702512762"
      ]
     },
     "execution_count": 248,
     "metadata": {},
     "output_type": "execute_result"
    }
   ],
   "source": [
    "test_compression(beads=200) / test_compression( params={'compression':'gzip', 'compression_opts':9} , beads=200)"
   ]
  },
  {
   "cell_type": "code",
   "execution_count": 249,
   "id": "0767a4c8-ea9e-4cad-a775-8081a5ce1c66",
   "metadata": {},
   "outputs": [],
   "source": [
    "res = [\n",
    "    test_compression(beads=x) / test_compression( params={'compression':'gzip', 'compression_opts':9} , beads=x)\n",
    "    for x in [1, 10, 100, 1000, 10000]\n",
    "]"
   ]
  },
  {
   "cell_type": "code",
   "execution_count": 250,
   "id": "72a4be75-9750-4b3c-8d9c-b4117a4b96ce",
   "metadata": {},
   "outputs": [
    {
     "data": {
      "text/plain": [
       "[2.2291976699717835,\n",
       " 2.228095817854822,\n",
       " 2.2170220271202945,\n",
       " 2.1301338361013222,\n",
       " 1.774219955425798]"
      ]
     },
     "execution_count": 250,
     "metadata": {},
     "output_type": "execute_result"
    }
   ],
   "source": [
    "res"
   ]
  },
  {
   "cell_type": "code",
   "execution_count": 257,
   "id": "7bfb65fa-b978-44c5-b093-92352095fe17",
   "metadata": {},
   "outputs": [],
   "source": [
    "res2 = [\n",
    "    test_compression(beads=x) / test_compression( params=hdf5plugin.Blosc(cname='zstd', clevel=9, shuffle=hdf5plugin.Blosc.BITSHUFFLE) , beads=x)\n",
    "    for x in [1, 10, 100, 1000, 10000]\n",
    "]"
   ]
  },
  {
   "cell_type": "code",
   "execution_count": 258,
   "id": "3c367f5a-bd10-4563-acaa-fe9cf3ab0d3c",
   "metadata": {},
   "outputs": [
    {
     "data": {
      "text/plain": [
       "[2.5973995683579196,\n",
       " 2.596118883586372,\n",
       " 2.5883546975860785,\n",
       " 2.518310600912096,\n",
       " 2.1164158818186314]"
      ]
     },
     "execution_count": 258,
     "metadata": {},
     "output_type": "execute_result"
    }
   ],
   "source": [
    "res2"
   ]
  },
  {
   "cell_type": "code",
   "execution_count": 268,
   "id": "603ad626-3604-47fe-8065-3c64f2d79ea9",
   "metadata": {},
   "outputs": [
    {
     "data": {
      "image/png": "[encoded data removed]",
      "text/plain": [
       "<Figure size 640x480 with 1 Axes>"
      ]
     },
     "metadata": {},
     "output_type": "display_data"
    }
   ],
   "source": [
    "fig = pyplot.figure()\n",
    "ax = fig.add_subplot(1, 1, 1)\n",
    "\n",
    "x_marks = [1, 10, 100, 1000, 10000]\n",
    "line, = ax.plot(x_marks, res, color='blue', lw=2)\n",
    "line, = ax.plot(x_marks, res2, color='red', lw=2)\n",
    "\n",
    "ax.set_xscale('log')"
   ]
  },
  {
   "cell_type": "code",
   "execution_count": null,
   "id": "105ab549-5c0f-430d-9553-089628a9b5e3",
   "metadata": {},
   "outputs": [],
   "source": []
  }
 ],
 "metadata": {
  "kernelspec": {
   "display_name": "Python 3 (ipykernel)",
   "language": "python",
   "name": "python3"
  },
  "language_info": {
   "codemirror_mode": {
    "name": "ipython",
    "version": 3
   },
   "file_extension": ".py",
   "mimetype": "text/x-python",
   "name": "python",
   "nbconvert_exporter": "python",
   "pygments_lexer": "ipython3",
   "version": "3.10.6"
  }
 },
 "nbformat": 4,
 "nbformat_minor": 5
}
